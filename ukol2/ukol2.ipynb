{
 "cells": [
  {
   "cell_type": "code",
   "execution_count": 7,
   "metadata": {},
   "outputs": [
    {
     "name": "stdout",
     "output_type": "stream",
     "text": [
      "Accuracy: 0.9796296296296296\n",
      "Confusion Matrix:\n",
      "[[53  0  0  0  0  0  0  0  0  0]\n",
      " [ 0 49  0  0  0  0  0  0  1  0]\n",
      " [ 0  0 47  0  0  0  0  0  0  0]\n",
      " [ 0  0  1 52  0  1  0  0  0  0]\n",
      " [ 0  1  0  0 59  0  0  0  0  0]\n",
      " [ 0  0  0  0  0 64  0  1  0  1]\n",
      " [ 0  0  0  0  0  0 53  0  0  0]\n",
      " [ 0  0  0  0  0  0  0 54  0  1]\n",
      " [ 0  0  0  0  0  1  0  0 42  0]\n",
      " [ 0  0  0  0  1  0  0  1  1 56]]\n"
     ]
    }
   ],
   "source": [
    "import matplotlib.pyplot as plt\n",
    "from sklearn import datasets\n",
    "from sklearn.model_selection import train_test_split\n",
    "from sklearn.svm import SVC\n",
    "from sklearn.metrics import accuracy_score, confusion_matrix\n",
    "\n",
    "# Načtení dat\n",
    "digits = datasets.load_digits()\n",
    "y = digits.target\n",
    "data = digits.images\n",
    "\n",
    "# Převedení dat na jednorozměrné pole\n",
    "n_samples = len(data)\n",
    "data = data.reshape([n_samples, -1])\n",
    "\n",
    "# Rozdělení dat na trénovací a testovací sady\n",
    "X_train, X_test, y_train, y_test = train_test_split(data, y, test_size=0.3, random_state=42)\n",
    "\n",
    "# Vytvoření a natrénování modelu\n",
    "clf = SVC(kernel='linear')\n",
    "clf.fit(X_train, y_train)\n",
    "\n",
    "# Predikce na testovacích datech\n",
    "y_pred = clf.predict(X_test)\n",
    "\n",
    "# Výpočet accuracy a matice záměn\n",
    "accuracy = accuracy_score(y_test, y_pred)\n",
    "conf_matrix = confusion_matrix(y_test, y_pred)\n",
    "\n",
    "print(f'Accuracy: {accuracy}')\n",
    "print('Confusion Matrix:')\n",
    "print(conf_matrix)\n",
    "\n"
   ]
  },
  {
   "cell_type": "code",
   "execution_count": 8,
   "metadata": {},
   "outputs": [
    {
     "data": {
      "image/png": "[encoded data removed]",
      "text/plain": [
       "<Figure size 640x480 with 1 Axes>"
      ]
     },
     "metadata": {},
     "output_type": "display_data"
    }
   ],
   "source": [
    "# Bonus - zobrazení špatně predikovaných obrázků\n",
    "for i in range(0, len(y_pred)):\n",
    "    # Podmínka, která porovná predikovanou hodnotu pro i-tý obrázek a skutečnou hodnotu pro i-tý obrázek\n",
    "    if y_pred[i] != y_test[i]:\n",
    "        # Načtení i-tého obrázku z proměnné X_test\n",
    "        image = X_test[i]\n",
    "        # Obrázek převedeme zpět na matici 8x8\n",
    "        image = image.reshape(8, 8)\n",
    "        # Příkaz na zobrazení obrázku\n",
    "        plt.imshow(image, cmap=plt.cm.gray_r)\n",
    "        # Grafu dáme titulek, který porovnává predikovanou a skutečnou hodnotu\n",
    "        plt.title(f'Predicted: {y_pred[i]}, Actual: {y_test[i]}')\n",
    "        # Obrázek uložíme do souboru\n",
    "        plt.savefig(f\"{i}.png\")\n"
   ]
  }
 ],
 "metadata": {
  "kernelspec": {
   "display_name": "Python 3",
   "language": "python",
   "name": "python3"
  },
  "language_info": {
   "codemirror_mode": {
    "name": "ipython",
    "version": 3
   },
   "file_extension": ".py",
   "mimetype": "text/x-python",
   "name": "python",
   "nbconvert_exporter": "python",
   "pygments_lexer": "ipython3",
   "version": "3.12.2"
  }
 },
 "nbformat": 4,
 "nbformat_minor": 2
}
